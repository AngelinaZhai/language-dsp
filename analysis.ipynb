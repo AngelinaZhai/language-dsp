{
 "cells": [
  {
   "cell_type": "code",
   "execution_count": 2,
   "metadata": {},
   "outputs": [],
   "source": [
    "# import librosa\n",
    "import sys\n",
    "sys.path.append('/Users/angelinazhai/ffmpeg') #https://stackoverflow.com/questions/57350259/filenotfounderror-errno-2-no-such-file-or-directory-ffprobe-ffprobe\n",
    "\n",
    "# import scipy\n",
    "from scipy import signal\n",
    "import matplotlib.pyplot as plt\n",
    "import os\n",
    "import numpy as np\n",
    "\n",
    "import librosa\n",
    "import librosa.display\n",
    "\n",
    "import pickle\n",
    "import pandas as pd\n",
    "\n",
    "import scipy\n",
    "import statsmodels\n",
    "from statsmodels import stats\n",
    "from statsmodels.stats import weightstats"
   ]
  },
  {
   "cell_type": "code",
   "execution_count": 3,
   "metadata": {},
   "outputs": [],
   "source": [
    "#relocate to folder with recordings\n",
    "ROOT = '/Users/angelinazhai/Desktop/Github-Repositories/language-dsp'\n",
    "ORIGINAL_REC = 'recordings/original'"
   ]
  },
  {
   "cell_type": "code",
   "execution_count": 4,
   "metadata": {},
   "outputs": [],
   "source": [
    "#processing every single file in the folder\n",
    "\n",
    "processed_info = {}\n",
    "\n",
    "def update_dict():\n",
    "    for root, dirs, files in os.walk(os.path.join(ROOT, ORIGINAL_REC)):\n",
    "        for file in files:\n",
    "            if file.endswith('.m4a'):\n",
    "                y, sr = librosa.load(os.path.join(ROOT, ORIGINAL_REC, file))\n",
    "                processed_info[file] = {}\n",
    "                processed_info[file]['SR'] = sr\n",
    "                processed_info[file]['Time_Domain'] = y\n",
    "                D = librosa.stft(y)\n",
    "                processed_info[file]['Freq_Domain'] = D\n",
    "                S_db = librosa.amplitude_to_db(np.abs(D), ref=np.max)\n",
    "                processed_info[file]['db'] = S_db\n",
    "\n",
    "\n",
    "#pickle the processed info into new pickle file\n",
    "def to_pickle_file():\n",
    "    with open('processed_info.pickle', 'wb') as handle:\n",
    "        pickle.dump(processed_info, handle, protocol=pickle.HIGHEST_PROTOCOL)\n",
    "\n",
    "# print(processed_info)\n"
   ]
  },
  {
   "cell_type": "code",
   "execution_count": 6,
   "metadata": {},
   "outputs": [],
   "source": [
    "# plt.figure()\n",
    "# librosa.display.specshow(S_db)\n",
    "# plt.colorbar()\n",
    "# plt.show()\n",
    "# processed_info['Ree Eng.m4a']['Freq_Domain']"
   ]
  },
  {
   "cell_type": "code",
   "execution_count": 7,
   "metadata": {},
   "outputs": [],
   "source": [
    "# #uncomment for double checking spectrogram\n",
    "\n",
    "# plt.figure()\n",
    "# librosa.display.specshow(processed_info['Anne Canto.m4a']['db'])\n",
    "# plt.colorbar()\n",
    "# plt.show()"
   ]
  },
  {
   "cell_type": "code",
   "execution_count": 8,
   "metadata": {},
   "outputs": [],
   "source": [
    "#test opening pickle file\n",
    "def dict_from_pickle():\n",
    "    with open('processed_info.pickle', 'rb') as handle:\n",
    "        b = pickle.load(handle)\n",
    "    return b\n",
    "    "
   ]
  },
  {
   "cell_type": "code",
   "execution_count": 9,
   "metadata": {},
   "outputs": [],
   "source": [
    "#output test results\n",
    "def output_results(diff, pval):\n",
    "    print(\"Results: Percent difference in mean = {}, P-Value = {} \".format(abs(diff), pval))"
   ]
  },
  {
   "cell_type": "code",
   "execution_count": 10,
   "metadata": {},
   "outputs": [],
   "source": [
    "# conduct t test on frequency information of two recordings\n",
    "def t_test_freq(info, r1, r2):\n",
    "    r1 = info[r1]['Freq_Domain']\n",
    "    r2 = info[r2]['Freq_Domain']\n",
    "\n",
    "    #flatten arrays\n",
    "    r1 = r1.flatten()\n",
    "    r2 = r2.flatten()\n",
    "\n",
    "    t, p = scipy.stats.ttest_ind(r1, r2)\n",
    "    return t, p\n",
    "\n",
    "\n",
    "# conduct t test on time domain information of two recordings\n",
    "def t_test_time(info, r1, r2):\n",
    "    r1 = info[r1]['Time_Domain']\n",
    "    r2 = info[r2]['Time_Domain']\n",
    "\n",
    "    #flatten arrays\n",
    "    r1 = r1.flatten()\n",
    "    r2 = r2.flatten()\n",
    "\n",
    "    t, p = scipy.stats.ttest_ind(r1, r2)\n",
    "    return t, p\n",
    "\n"
   ]
  },
  {
   "cell_type": "code",
   "execution_count": 20,
   "metadata": {},
   "outputs": [],
   "source": [
    "# find the variance of a dataset\n",
    "\n",
    "#time domain\n",
    "def variance_time(info, r):\n",
    "    r = info[r]['Time_Domain']\n",
    "    r = r.flatten()\n",
    "    return np.var(r)\n",
    "\n",
    "#frequency domain\n",
    "def variance_freq(info, r):\n",
    "    r = info[r]['Freq_Domain']\n",
    "    r = r.flatten()\n",
    "    return np.var(r)"
   ]
  },
  {
   "cell_type": "markdown",
   "metadata": {},
   "source": [
    "**Loading daset from pickle**"
   ]
  },
  {
   "cell_type": "code",
   "execution_count": null,
   "metadata": {},
   "outputs": [],
   "source": [
    "#read in dict from pickle file\n",
    "info = dict_from_pickle()"
   ]
  },
  {
   "cell_type": "markdown",
   "metadata": {},
   "source": [
    "**Comparing datasets in different domains by participants**"
   ]
  },
  {
   "cell_type": "code",
   "execution_count": 17,
   "metadata": {},
   "outputs": [
    {
     "name": "stdout",
     "output_type": "stream",
     "text": [
      "Frequency domain analysis results:\n",
      "Results: Percent difference in mean = 0.039417788713595824, P-Value = 0.9685573054218279 \n",
      "Results: Percent difference in mean = 0.03469226472525642, P-Value = 0.972325135668208 \n",
      "Results: Percent difference in mean = 0.0456987345100065, P-Value = 0.963550382531384 \n",
      "Results: Percent difference in mean = 0.03816357871405698, P-Value = 0.9695572678180868 \n"
     ]
    }
   ],
   "source": [
    "#output results for freq domain\n",
    "print(\"Frequency domain analysis results:\")\n",
    "\n",
    "#conduct t test on two recordings (freq domain)\n",
    "t1, p1 = t_test_freq(info, 'Ree Eng.m4a', 'Ree French.m4a')\n",
    "output_results(t1, p1)\n",
    "\n",
    "t2, p2 = t_test_freq(info, 'Ang English.m4a', 'Ang Shanghai.m4a')\n",
    "output_results(t2, p2)\n",
    "\n",
    "t3, p3 = t_test_freq(info, 'Nat English.m4a', 'Nat Indonesian .m4a') #there is a space\n",
    "output_results(t3, p3)\n",
    "\n",
    "t4, p4 = t_test_freq(info, 'Anne Eng.m4a', 'Anne Canto.m4a')\n",
    "output_results(t4, p4)"
   ]
  },
  {
   "cell_type": "code",
   "execution_count": 1,
   "metadata": {},
   "outputs": [
    {
     "name": "stdout",
     "output_type": "stream",
     "text": [
      "Time domain analysis results:\n"
     ]
    },
    {
     "ename": "NameError",
     "evalue": "name 't_test_time' is not defined",
     "output_type": "error",
     "traceback": [
      "\u001b[1;31m---------------------------------------------------------------------------\u001b[0m",
      "\u001b[1;31mNameError\u001b[0m                                 Traceback (most recent call last)",
      "Cell \u001b[1;32mIn [1], line 5\u001b[0m\n\u001b[0;32m      2\u001b[0m \u001b[39mprint\u001b[39m(\u001b[39m\"\u001b[39m\u001b[39mTime domain analysis results:\u001b[39m\u001b[39m\"\u001b[39m)\n\u001b[0;32m      4\u001b[0m \u001b[39m#conduct t test on two recordings (time domain)\u001b[39;00m\n\u001b[1;32m----> 5\u001b[0m t1, p1 \u001b[39m=\u001b[39m t_test_time(info, \u001b[39m'\u001b[39m\u001b[39mRee Eng.m4a\u001b[39m\u001b[39m'\u001b[39m, \u001b[39m'\u001b[39m\u001b[39mRee French.m4a\u001b[39m\u001b[39m'\u001b[39m)\n\u001b[0;32m      6\u001b[0m output_results(t1, p1)\n\u001b[0;32m      8\u001b[0m t2, p2 \u001b[39m=\u001b[39m t_test_time(info, \u001b[39m'\u001b[39m\u001b[39mAng English.m4a\u001b[39m\u001b[39m'\u001b[39m, \u001b[39m'\u001b[39m\u001b[39mAng Shanghai.m4a\u001b[39m\u001b[39m'\u001b[39m)\n",
      "\u001b[1;31mNameError\u001b[0m: name 't_test_time' is not defined"
     ]
    }
   ],
   "source": [
    "#outpu results for time domain\n",
    "print(\"Time domain analysis results:\")\n",
    "\n",
    "#conduct t test on two recordings (time domain)\n",
    "t1, p1 = t_test_time(info, 'Ree Eng.m4a', 'Ree French.m4a')\n",
    "output_results(t1, p1)\n",
    "\n",
    "t2, p2 = t_test_time(info, 'Ang English.m4a', 'Ang Shanghai.m4a')\n",
    "output_results(t2, p2)\n",
    "\n",
    "t3, p3 = t_test_time(info, 'Nat English.m4a', 'Nat Indonesian .m4a') #there is a space\n",
    "output_results(t3, p3)\n",
    "\n",
    "t4, p4 = t_test_time(info, 'Anne Eng.m4a', 'Anne Canto.m4a')\n",
    "output_results(t4, p4)\n",
    "\n",
    "t5, p5 = t_test_time(info, 'Harshit English.mp3', 'Harshit Hindi.mp3')\n",
    "output_results(t5, p5)\n",
    "\n",
    "t6, p6 = t_test_time(info, 'Maisey English.m4a', 'Maisey Tagalog.m4a')\n",
    "output_results(t6, p6)\n"
   ]
  },
  {
   "cell_type": "code",
   "execution_count": 13,
   "metadata": {},
   "outputs": [],
   "source": [
    "#conduct z test on two recordings (freq domain)\n",
    "def z_test_freq(info, r1, r2):\n",
    "    r1 = info[r1]['Freq_Domain']\n",
    "    r2 = info[r2]['Freq_Domain']\n",
    "\n",
    "    #flatten arrays\n",
    "    r1 = r1.flatten()\n",
    "    r2 = r2.flatten()\n",
    "\n",
    "    z, p = statsmodels.stats.weightstats.ztest(r1, r2)\n",
    "    return z, p\n",
    "\n",
    "#conduct z test on two recordings (time domain)\n",
    "def z_test_time(info, r1, r2):\n",
    "    r1 = info[r1]['Time_Domain']\n",
    "    r2 = info[r2]['Time_Domain']\n",
    "\n",
    "    #flatten arrays\n",
    "    r1 = r1.flatten()\n",
    "    r2 = r2.flatten()\n",
    "\n",
    "    z, p = statsmodels.stats.weightstats.ztest(r1, r2)\n",
    "    return z, p"
   ]
  },
  {
   "cell_type": "code",
   "execution_count": 14,
   "metadata": {},
   "outputs": [
    {
     "name": "stdout",
     "output_type": "stream",
     "text": [
      "0.013517177879344337\n",
      "0.006396615196536191\n",
      "0.012882250758857997\n",
      "0.012071815958644448\n"
     ]
    }
   ],
   "source": [
    "t1, p1 = z_test_freq(info, 'Ree Eng.m4a', 'Ree French.m4a')\n",
    "print(abs(t1))\n",
    "\n",
    "t2, p2 = z_test_freq(info, 'Ang English.m4a', 'Ang Shanghai.m4a')\n",
    "print(abs(t2))\n",
    "\n",
    "t3, p3 = z_test_freq(info, 'Nat English.m4a', 'Nat Indonesian .m4a') #there is a space\n",
    "print(abs(t3))\n",
    "\n",
    "t4, p4 = z_test_freq(info, 'Anne Eng.m4a', 'Anne Canto.m4a')\n",
    "print(abs(t4))"
   ]
  },
  {
   "cell_type": "code",
   "execution_count": 15,
   "metadata": {},
   "outputs": [
    {
     "name": "stdout",
     "output_type": "stream",
     "text": [
      "0.5444365239235549\n",
      "0.2511470265391786\n",
      "0.5074703814833658\n",
      "0.48145604119837987\n"
     ]
    }
   ],
   "source": [
    "t1, p1 = z_test_time(info, 'Ree Eng.m4a', 'Ree French.m4a')\n",
    "print(abs(t1))\n",
    "\n",
    "t2, p2 = z_test_time(info, 'Ang English.m4a', 'Ang Shanghai.m4a')\n",
    "print(abs(t2))\n",
    "\n",
    "t3, p3 = z_test_time(info, 'Nat English.m4a', 'Nat Indonesian .m4a') #there is a space\n",
    "print(abs(t3))\n",
    "\n",
    "t4, p4 = z_test_time(info, 'Anne Eng.m4a', 'Anne Canto.m4a')\n",
    "print(abs(t4))"
   ]
  },
  {
   "cell_type": "markdown",
   "metadata": {},
   "source": [
    "**Looking at Variance of Datasets**\n",
    "\n",
    "(ie. Dispersion of datapoints within the dataset)"
   ]
  },
  {
   "cell_type": "code",
   "execution_count": 21,
   "metadata": {},
   "outputs": [
    {
     "name": "stdout",
     "output_type": "stream",
     "text": [
      "Time domain variance results:\n",
      "Ree Eng.m4a:  0.00035875867\n",
      "Ree French.m4a:  0.00020856495\n",
      "Ang English.m4a:  0.0013085506\n",
      "Ang Shanghai.m4a:  0.0017567878\n",
      "Nat English.m4a:  0.00032514118\n",
      "Nat Indonesian .m4a:  0.0005495376\n",
      "Anne Eng.m4a:  0.0006406574\n",
      "Anne Canto.m4a:  0.00050900725\n"
     ]
    }
   ],
   "source": [
    "#calculating the variance of all recordings in time domain\n",
    "print(\"Time domain variance results:\")\n",
    "print(\"Ree Eng.m4a: \", variance_time(info, 'Ree Eng.m4a'))\n",
    "print(\"Ree French.m4a: \", variance_time(info, 'Ree French.m4a'))\n",
    "print(\"Ang English.m4a: \", variance_time(info, 'Ang English.m4a'))\n",
    "print(\"Ang Shanghai.m4a: \", variance_time(info, 'Ang Shanghai.m4a'))\n",
    "print(\"Nat English.m4a: \", variance_time(info, 'Nat English.m4a'))\n",
    "print(\"Nat Indonesian .m4a: \", variance_time(info, 'Nat Indonesian .m4a'))\n",
    "print(\"Anne Eng.m4a: \", variance_time(info, 'Anne Eng.m4a'))\n",
    "print(\"Anne Canto.m4a: \", variance_time(info, 'Anne Canto.m4a'))\n"
   ]
  },
  {
   "cell_type": "code",
   "execution_count": 22,
   "metadata": {},
   "outputs": [
    {
     "name": "stdout",
     "output_type": "stream",
     "text": [
      "Frequency domain variance results:\n",
      "Ree Eng.m4a:  0.29812798\n",
      "Ree French.m4a:  0.16092809\n",
      "Ang English.m4a:  1.0032241\n",
      "Ang Shanghai.m4a:  1.3469301\n",
      "Nat English.m4a:  0.25089777\n",
      "Nat Indonesian .m4a:  0.4299686\n",
      "Anne Eng.m4a:  0.533272\n",
      "Anne Canto.m4a:  0.39134774\n"
     ]
    }
   ],
   "source": [
    "#calculating the variance of all recordings in freq domain\n",
    "print(\"Frequency domain variance results:\")\n",
    "print(\"Ree Eng.m4a: \", variance_freq(info, 'Ree Eng.m4a'))\n",
    "print(\"Ree French.m4a: \", variance_freq(info, 'Ree French.m4a'))\n",
    "print(\"Ang English.m4a: \", variance_freq(info, 'Ang English.m4a'))\n",
    "print(\"Ang Shanghai.m4a: \", variance_freq(info, 'Ang Shanghai.m4a'))\n",
    "print(\"Nat English.m4a: \", variance_freq(info, 'Nat English.m4a'))\n",
    "print(\"Nat Indonesian .m4a: \", variance_freq(info, 'Nat Indonesian .m4a'))\n",
    "print(\"Anne Eng.m4a: \", variance_freq(info, 'Anne Eng.m4a'))\n",
    "print(\"Anne Canto.m4a: \", variance_freq(info, 'Anne Canto.m4a'))\n"
   ]
  }
 ],
 "metadata": {
  "kernelspec": {
   "display_name": "Python 3.10.8 64-bit (microsoft store)",
   "language": "python",
   "name": "python3"
  },
  "language_info": {
   "codemirror_mode": {
    "name": "ipython",
    "version": 3
   },
   "file_extension": ".py",
   "mimetype": "text/x-python",
   "name": "python",
   "nbconvert_exporter": "python",
   "pygments_lexer": "ipython3",
   "version": "3.10.8"
  },
  "orig_nbformat": 4,
  "vscode": {
   "interpreter": {
    "hash": "a11089c37b38afe5d3ff1d51c315be883380857df0916f39cbaa1369c5ba3103"
   }
  }
 },
 "nbformat": 4,
 "nbformat_minor": 2
}
