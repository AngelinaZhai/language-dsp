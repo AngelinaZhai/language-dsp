{
 "cells": [
  {
   "cell_type": "code",
   "execution_count": 30,
   "metadata": {},
   "outputs": [],
   "source": [
    "# import librosa\n",
    "import sys\n",
    "sys.path.append('/Users/angelinazhai/ffmpeg') #https://stackoverflow.com/questions/57350259/filenotfounderror-errno-2-no-such-file-or-directory-ffprobe-ffprobe\n",
    "\n",
    "# import scipy\n",
    "from scipy import signal\n",
    "import matplotlib.pyplot as plt\n",
    "import os\n",
    "import numpy as np\n",
    "\n",
    "import librosa\n",
    "import librosa.display\n",
    "\n",
    "import pickle\n",
    "import pandas as pd\n",
    "\n",
    "import scipy\n"
   ]
  },
  {
   "cell_type": "code",
   "execution_count": 31,
   "metadata": {},
   "outputs": [],
   "source": [
    "#relocate to folder with recordings\n",
    "ROOT = '/Users/angelinazhai/Desktop/Github-Repositories/language-dsp'\n",
    "ORIGINAL_REC = 'recordings/original'"
   ]
  },
  {
   "cell_type": "code",
   "execution_count": 25,
   "metadata": {},
   "outputs": [],
   "source": [
    "#processing every single file in the folder\n",
    "\n",
    "processed_info = {}\n",
    "\n",
    "def update_dict():\n",
    "    for root, dirs, files in os.walk(os.path.join(ROOT, ORIGINAL_REC)):\n",
    "        for file in files:\n",
    "            if file.endswith('.m4a'):\n",
    "                y, sr = librosa.load(os.path.join(ROOT, ORIGINAL_REC, file))\n",
    "                processed_info[file] = {}\n",
    "                processed_info[file]['SR'] = sr\n",
    "                processed_info[file]['Time_Domain'] = y\n",
    "                D = librosa.stft(y)\n",
    "                processed_info[file]['Freq_Domain'] = D\n",
    "                S_db = librosa.amplitude_to_db(np.abs(D), ref=np.max)\n",
    "                processed_info[file]['db'] = S_db\n",
    "\n",
    "\n",
    "#pickle the processed info into new pickle file\n",
    "def to_pickle_file():\n",
    "    with open('processed_info.pickle', 'wb') as handle:\n",
    "        pickle.dump(processed_info, handle, protocol=pickle.HIGHEST_PROTOCOL)\n",
    "\n",
    "# print(processed_info)\n"
   ]
  },
  {
   "cell_type": "code",
   "execution_count": 12,
   "metadata": {},
   "outputs": [
    {
     "data": {
      "text/plain": [
       "array([[-6.9987855e-06+0.00000000e+00j, -5.7704787e-04+0.00000000e+00j,\n",
       "         4.5725766e-01+0.00000000e+00j, ...,\n",
       "         3.6071774e-02+0.00000000e+00j, -2.3769058e-02+0.00000000e+00j,\n",
       "         4.8439503e-02+0.00000000e+00j],\n",
       "       [-6.5216868e-06-2.46768354e-06j, -1.3076197e-04-4.91960905e-04j,\n",
       "         3.9145032e-01+2.33251780e-01j, ...,\n",
       "        -1.2828460e-02-1.24639392e-01j,  6.9628984e-02+6.79009855e-02j,\n",
       "        -6.5461732e-02+8.48506205e-03j],\n",
       "       [-5.1659486e-06-4.56822227e-06j,  2.9855379e-04-1.55156406e-04j,\n",
       "         2.0453095e-01+3.91696304e-01j, ...,\n",
       "         5.4374378e-02+1.81370810e-01j, -9.0492452e-03-1.25641108e-01j,\n",
       "         4.4900995e-02+1.67616480e-03j],\n",
       "       ...,\n",
       "       [ 2.4546820e-10+2.40369304e-11j,  6.4327689e-11+1.67369585e-09j,\n",
       "        -1.8037914e-08+6.46509264e-08j, ...,\n",
       "        -1.8901669e-07+6.31924824e-09j, -4.5563991e-07+8.96415543e-07j,\n",
       "         8.1764729e-06-1.17970585e-05j],\n",
       "       [ 2.3627414e-10+1.07686872e-11j, -1.0340614e-09+5.07039966e-10j,\n",
       "        -4.9335437e-08+4.57808937e-08j, ...,\n",
       "        -1.8540387e-08-5.99786958e-08j, -1.2076894e-06+5.12159090e-07j,\n",
       "         6.6312732e-06+1.29000564e-05j],\n",
       "       [ 2.3399699e-10+0.00000000e+00j, -7.9132678e-10+0.00000000e+00j,\n",
       "        -7.0700843e-08+0.00000000e+00j, ...,\n",
       "         1.2339770e-07+0.00000000e+00j, -9.2186804e-07+0.00000000e+00j,\n",
       "        -1.4335157e-05+0.00000000e+00j]], dtype=complex64)"
      ]
     },
     "execution_count": 12,
     "metadata": {},
     "output_type": "execute_result"
    }
   ],
   "source": [
    "plt.figure()\n",
    "librosa.display.specshow(S_db)\n",
    "plt.colorbar()\n",
    "plt.show()\n",
    "processed_info['Ree Eng.m4a']['Freq_Domain']"
   ]
  },
  {
   "cell_type": "code",
   "execution_count": 18,
   "metadata": {},
   "outputs": [],
   "source": [
    "# #uncomment for double checking spectrogram\n",
    "\n",
    "# plt.figure()\n",
    "# librosa.display.specshow(processed_info['Anne Canto.m4a']['db'])\n",
    "# plt.colorbar()\n",
    "# plt.show()"
   ]
  },
  {
   "cell_type": "code",
   "execution_count": 27,
   "metadata": {},
   "outputs": [],
   "source": [
    "#test opening pickle file\n",
    "def dict_from_pickle():\n",
    "    with open('processed_info.pickle', 'rb') as handle:\n",
    "        b = pickle.load(handle)\n",
    "    return b\n",
    "    "
   ]
  },
  {
   "cell_type": "code",
   "execution_count": 56,
   "metadata": {},
   "outputs": [],
   "source": [
    "# conduct t test on frequency information of two recordings\n",
    "def t_test_freq(info, r1, r2):\n",
    "    r1 = info[r1]['Freq_Domain']\n",
    "    r2 = info[r2]['Freq_Domain']\n",
    "\n",
    "    #flatten arrays\n",
    "    r1 = r1.flatten()\n",
    "    r2 = r2.flatten()\n",
    "\n",
    "    t, p = scipy.stats.ttest_ind(r1, r2)\n",
    "    return t, p\n",
    "\n",
    "\n"
   ]
  },
  {
   "cell_type": "code",
   "execution_count": 59,
   "metadata": {},
   "outputs": [
    {
     "name": "stdout",
     "output_type": "stream",
     "text": [
      "0.039417788713595824\n",
      "\n",
      "\n",
      "0.03469226472525642\n",
      "0.0456987345100065\n",
      "0.03816357871405698\n"
     ]
    }
   ],
   "source": [
    "#read in dict from pickle file\n",
    "info = dict_from_pickle()\n",
    "\n",
    "#conduct t test on two recordings\n",
    "t1, p1 = t_test_freq(info, 'Ree Eng.m4a', 'Ree French.m4a')\n",
    "print(abs(t1))\n",
    "\n",
    "t2, p2 = t_test_freq(info, 'Ang English.m4a', 'Ang Shanghai.m4a')\n",
    "print(abs(t2))\n",
    "\n",
    "t3, p3 = t_test_freq(info, 'Nat English.m4a', 'Nat Indonesian .m4a') #there is a space\n",
    "print(abs(t3))\n",
    "\n",
    "t4, p4 = t_test_freq(info, 'Anne Eng.m4a', 'Anne Canto.m4a')\n",
    "print(abs(t4))"
   ]
  }
 ],
 "metadata": {
  "kernelspec": {
   "display_name": "Python 3.10.0 64-bit ('3.10.0')",
   "language": "python",
   "name": "python3"
  },
  "language_info": {
   "codemirror_mode": {
    "name": "ipython",
    "version": 3
   },
   "file_extension": ".py",
   "mimetype": "text/x-python",
   "name": "python",
   "nbconvert_exporter": "python",
   "pygments_lexer": "ipython3",
   "version": "3.10.0"
  },
  "orig_nbformat": 4,
  "vscode": {
   "interpreter": {
    "hash": "30efb41457f022ea1222939401f6a3b691731be1d0f1aeb059ad6e6169e3a539"
   }
  }
 },
 "nbformat": 4,
 "nbformat_minor": 2
}
